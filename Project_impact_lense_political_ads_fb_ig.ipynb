{
  "cells": [
    {
      "cell_type": "code",
      "execution_count": null,
      "metadata": {
        "id": "j9ZwwKaTjZ5c"
      },
      "outputs": [],
      "source": [
        "\n",
        "import pandas as pd\n",
        "import plotly.express as px\n",
        "import numpy as np\n",
        "import matplotlib.pyplot as plt\n",
        "import seaborn as sns\n"
      ]
    },
    {
      "cell_type": "code",
      "execution_count": null,
      "metadata": {
        "id": "_EkBlWjYlQDY"
      },
      "outputs": [],
      "source": [
        "df=pd.read_gbq(\"SELECT * FROM `analytics-tables.META_ADS.GRUNE`\", project_id=\"analytics-tables\")\n"
      ]
    },
    {
      "cell_type": "code",
      "execution_count": null,
      "metadata": {
        "colab": {
          "base_uri": "https://localhost:8080/",
          "height": 964
        },
        "id": "W7jGaBqWzBNn",
        "outputId": "a957aac2-bca4-4e94-e6e1-a3f59b23f50f"
      },
      "outputs": [
        {
          "data": {
            "text/html": [
              "\n",
              "  <div id=\"df-d9163e86-cddd-4680-9dcc-fe4c8da3ec2c\" class=\"colab-df-container\">\n",
              "    <div>\n",
              "<style scoped>\n",
              "    .dataframe tbody tr th:only-of-type {\n",
              "        vertical-align: middle;\n",
              "    }\n",
              "\n",
              "    .dataframe tbody tr th {\n",
              "        vertical-align: top;\n",
              "    }\n",
              "\n",
              "    .dataframe thead th {\n",
              "        text-align: right;\n",
              "    }\n",
              "</style>\n",
              "<table border=\"1\" class=\"dataframe\">\n",
              "  <thead>\n",
              "    <tr style=\"text-align: right;\">\n",
              "      <th></th>\n",
              "      <th>ad_archive_id</th>\n",
              "      <th>page_id</th>\n",
              "      <th>page_name</th>\n",
              "      <th>ad_creation_time</th>\n",
              "      <th>ad_delivery_start_time</th>\n",
              "      <th>ad_delivery_stop_time</th>\n",
              "      <th>byline</th>\n",
              "      <th>ad_creative_bodies</th>\n",
              "      <th>impressions</th>\n",
              "      <th>spend</th>\n",
              "      <th>demographic_distribution</th>\n",
              "      <th>delivery_by_region</th>\n",
              "      <th>publisher_platforms</th>\n",
              "      <th>estimated_audience_size</th>\n",
              "    </tr>\n",
              "  </thead>\n",
              "  <tbody>\n",
              "    <tr>\n",
              "      <th>0</th>\n",
              "      <td>2.079160e+14</td>\n",
              "      <td>47217143218</td>\n",
              "      <td>BÜNDNIS 90/DIE GRÜNEN</td>\n",
              "      <td>2023-11-09</td>\n",
              "      <td>2023-11-10</td>\n",
              "      <td>2023-11-16</td>\n",
              "      <td>Bündnis 90/Die Grünen</td>\n",
              "      <td>Werde Teil unserer grünen Gemeinschaft und sup...</td>\n",
              "      <td>lower_bound: 8000, upper_bound: 8999</td>\n",
              "      <td>lower_bound: 100, upper_bound: 199</td>\n",
              "      <td>{\"age\":\"35-44\",\"gender\":\"unknown\",\"percentage\"...</td>\n",
              "      <td>{\"region\":\"Baden-W\\u00fcrttemberg\",\"percentage...</td>\n",
              "      <td>instagram</td>\n",
              "      <td>lower_bound: 100001, upper_bound: 500000</td>\n",
              "    </tr>\n",
              "    <tr>\n",
              "      <th>1</th>\n",
              "      <td>8.494960e+14</td>\n",
              "      <td>47217143218</td>\n",
              "      <td>BÜNDNIS 90/DIE GRÜNEN</td>\n",
              "      <td>2023-11-09</td>\n",
              "      <td>2023-11-10</td>\n",
              "      <td>2023-11-20</td>\n",
              "      <td>Bündnis 90/Die Grünen</td>\n",
              "      <td>Gemeinsam stark machen für unsere Demokratie? ...</td>\n",
              "      <td>lower_bound: 15000, upper_bound: 19999</td>\n",
              "      <td>lower_bound: 300, upper_bound: 399</td>\n",
              "      <td>{\"age\":\"65+\",\"gender\":\"unknown\",\"percentage\":0...</td>\n",
              "      <td>{\"region\":\"Unknown\",\"percentage\":0.001151},{\"r...</td>\n",
              "      <td>instagram</td>\n",
              "      <td>lower_bound: 100001, upper_bound: 500000</td>\n",
              "    </tr>\n",
              "    <tr>\n",
              "      <th>2</th>\n",
              "      <td>7.326677e+14</td>\n",
              "      <td>47217143218</td>\n",
              "      <td>BÜNDNIS 90/DIE GRÜNEN</td>\n",
              "      <td>2023-11-09</td>\n",
              "      <td>2023-11-09</td>\n",
              "      <td>2023-11-10</td>\n",
              "      <td>Bündnis 90/Die Grünen</td>\n",
              "      <td>Gemeinsam stark machen für unsere Demokratie? ...</td>\n",
              "      <td>lower_bound: 2000, upper_bound: 2999</td>\n",
              "      <td>lower_bound: 0, upper_bound: 99</td>\n",
              "      <td>{\"age\":\"55-64\",\"gender\":\"unknown\",\"percentage\"...</td>\n",
              "      <td>{\"region\":\"Unknown\",\"percentage\":0.001014},{\"r...</td>\n",
              "      <td>instagram</td>\n",
              "      <td>lower_bound: 100001, upper_bound: 500000</td>\n",
              "    </tr>\n",
              "    <tr>\n",
              "      <th>3</th>\n",
              "      <td>1.045265e+15</td>\n",
              "      <td>47217143218</td>\n",
              "      <td>BÜNDNIS 90/DIE GRÜNEN</td>\n",
              "      <td>2023-11-09</td>\n",
              "      <td>2023-11-09</td>\n",
              "      <td>2023-11-10</td>\n",
              "      <td>Bündnis 90/Die Grünen</td>\n",
              "      <td>Werde Teil unserer grünen Gemeinschaft und sup...</td>\n",
              "      <td>lower_bound: 0, upper_bound: 999</td>\n",
              "      <td>lower_bound: 0, upper_bound: 99</td>\n",
              "      <td>{\"age\":\"35-44\",\"gender\":\"female\",\"percentage\":...</td>\n",
              "      <td>{\"region\":\"Baden-W\\u00fcrttemberg\",\"percentage...</td>\n",
              "      <td>instagram</td>\n",
              "      <td>lower_bound: 100001, upper_bound: 500000</td>\n",
              "    </tr>\n",
              "    <tr>\n",
              "      <th>4</th>\n",
              "      <td>6.500607e+14</td>\n",
              "      <td>47217143218</td>\n",
              "      <td>BÜNDNIS 90/DIE GRÜNEN</td>\n",
              "      <td>2023-11-09</td>\n",
              "      <td>2023-11-09</td>\n",
              "      <td>2023-11-09</td>\n",
              "      <td>Bündnis 90/Die Grünen</td>\n",
              "      <td>Gemeinsam stark machen für unsere Demokratie? ...</td>\n",
              "      <td>lower_bound: 8000, upper_bound: 8999</td>\n",
              "      <td>lower_bound: 200, upper_bound: 299</td>\n",
              "      <td>{\"age\":\"45-54\",\"gender\":\"unknown\",\"percentage\"...</td>\n",
              "      <td>{\"region\":\"Unknown\",\"percentage\":0.000136},{\"r...</td>\n",
              "      <td>instagram</td>\n",
              "      <td>lower_bound: 100001, upper_bound: 500000</td>\n",
              "    </tr>\n",
              "    <tr>\n",
              "      <th>...</th>\n",
              "      <td>...</td>\n",
              "      <td>...</td>\n",
              "      <td>...</td>\n",
              "      <td>...</td>\n",
              "      <td>...</td>\n",
              "      <td>...</td>\n",
              "      <td>...</td>\n",
              "      <td>...</td>\n",
              "      <td>...</td>\n",
              "      <td>...</td>\n",
              "      <td>...</td>\n",
              "      <td>...</td>\n",
              "      <td>...</td>\n",
              "      <td>...</td>\n",
              "    </tr>\n",
              "    <tr>\n",
              "      <th>8298</th>\n",
              "      <td>3.077834e+14</td>\n",
              "      <td>47217143218</td>\n",
              "      <td>BÜNDNIS 90/DIE GRÜNEN</td>\n",
              "      <td>2019-04-15</td>\n",
              "      <td>2019-04-15</td>\n",
              "      <td>2019-04-16</td>\n",
              "      <td>BÜNDNIS 90/DIE GRÜNEN</td>\n",
              "      <td>Du findest, deine Hood könnte noch ein bissche...</td>\n",
              "      <td>lower_bound: 10000, upper_bound: 14999</td>\n",
              "      <td>lower_bound: 0, upper_bound: 99</td>\n",
              "      <td>{\"age\":\"25-34\",\"gender\":\"male\",\"percentage\":0....</td>\n",
              "      <td>{\"region\":\"Baden-W\\u00fcrttemberg\",\"percentage...</td>\n",
              "      <td>facebook</td>\n",
              "      <td>None</td>\n",
              "    </tr>\n",
              "    <tr>\n",
              "      <th>8299</th>\n",
              "      <td>2.690442e+14</td>\n",
              "      <td>47217143218</td>\n",
              "      <td>BÜNDNIS 90/DIE GRÜNEN</td>\n",
              "      <td>2019-04-15</td>\n",
              "      <td>2019-04-15</td>\n",
              "      <td>2019-04-16</td>\n",
              "      <td>None</td>\n",
              "      <td>Du findest, deine Hood könnte noch ein bissche...</td>\n",
              "      <td>lower_bound: 0, upper_bound: 999</td>\n",
              "      <td>lower_bound: 0, upper_bound: 99</td>\n",
              "      <td>{\"age\":\"18-24\",\"gender\":\"male\",\"percentage\":0....</td>\n",
              "      <td>{\"region\":\"Unknown\",\"percentage\":0.005574},{\"r...</td>\n",
              "      <td>instagram</td>\n",
              "      <td>None</td>\n",
              "    </tr>\n",
              "    <tr>\n",
              "      <th>8300</th>\n",
              "      <td>2.356636e+15</td>\n",
              "      <td>47217143218</td>\n",
              "      <td>BÜNDNIS 90/DIE GRÜNEN</td>\n",
              "      <td>2019-04-15</td>\n",
              "      <td>2019-04-15</td>\n",
              "      <td>2019-04-15</td>\n",
              "      <td>None</td>\n",
              "      <td>Du findest, deine Hood könnte noch ein bissche...</td>\n",
              "      <td>lower_bound: 2000, upper_bound: 2999</td>\n",
              "      <td>lower_bound: 0, upper_bound: 99</td>\n",
              "      <td>{\"age\":\"18-24\",\"gender\":\"male\",\"percentage\":0....</td>\n",
              "      <td>{\"region\":\"Unknown\",\"percentage\":0.006494},{\"r...</td>\n",
              "      <td>instagram</td>\n",
              "      <td>None</td>\n",
              "    </tr>\n",
              "    <tr>\n",
              "      <th>8301</th>\n",
              "      <td>3.563829e+14</td>\n",
              "      <td>47217143218</td>\n",
              "      <td>BÜNDNIS 90/DIE GRÜNEN</td>\n",
              "      <td>2019-04-14</td>\n",
              "      <td>2019-04-15</td>\n",
              "      <td>2019-04-15</td>\n",
              "      <td>BÜNDNIS 90/DIE GRÜNEN</td>\n",
              "      <td>Du findest, deine Hood könnte noch ein bissche...</td>\n",
              "      <td>lower_bound: 2000, upper_bound: 2999</td>\n",
              "      <td>lower_bound: 0, upper_bound: 99</td>\n",
              "      <td>{\"age\":\"45-54\",\"gender\":\"female\",\"percentage\":...</td>\n",
              "      <td>{\"region\":\"Baden-W\\u00fcrttemberg\",\"percentage...</td>\n",
              "      <td>facebook</td>\n",
              "      <td>None</td>\n",
              "    </tr>\n",
              "    <tr>\n",
              "      <th>8302</th>\n",
              "      <td>2.153310e+15</td>\n",
              "      <td>47217143218</td>\n",
              "      <td>BÜNDNIS 90/DIE GRÜNEN</td>\n",
              "      <td>2019-04-14</td>\n",
              "      <td>2019-04-15</td>\n",
              "      <td>2019-04-15</td>\n",
              "      <td>BÜNDNIS 90/DIE GRÜNEN</td>\n",
              "      <td>Du findest, deine Hood könnte noch ein bissche...</td>\n",
              "      <td>lower_bound: 1000, upper_bound: 1999</td>\n",
              "      <td>lower_bound: 0, upper_bound: 99</td>\n",
              "      <td>{\"age\":\"45-54\",\"gender\":\"male\",\"percentage\":0....</td>\n",
              "      <td>{\"region\":\"Baden-W\\u00fcrttemberg\",\"percentage...</td>\n",
              "      <td>facebook</td>\n",
              "      <td>None</td>\n",
              "    </tr>\n",
              "  </tbody>\n",
              "</table>\n",
              "<p>8303 rows × 14 columns</p>\n",
              "</div>\n",
              "    <div class=\"colab-df-buttons\">\n",
              "\n",
              "  <div class=\"colab-df-container\">\n",
              "    <button class=\"colab-df-convert\" onclick=\"convertToInteractive('df-d9163e86-cddd-4680-9dcc-fe4c8da3ec2c')\"\n",
              "            title=\"Convert this dataframe to an interactive table.\"\n",
              "            style=\"display:none;\">\n",
              "\n",
              "  <svg xmlns=\"http://www.w3.org/2000/svg\" height=\"24px\" viewBox=\"0 -960 960 960\">\n",
              "    <path d=\"M120-120v-720h720v720H120Zm60-500h600v-160H180v160Zm220 220h160v-160H400v160Zm0 220h160v-160H400v160ZM180-400h160v-160H180v160Zm440 0h160v-160H620v160ZM180-180h160v-160H180v160Zm440 0h160v-160H620v160Z\"/>\n",
              "  </svg>\n",
              "    </button>\n",
              "\n",
              "  <style>\n",
              "    .colab-df-container {\n",
              "      display:flex;\n",
              "      gap: 12px;\n",
              "    }\n",
              "\n",
              "    .colab-df-convert {\n",
              "      background-color: #E8F0FE;\n",
              "      border: none;\n",
              "      border-radius: 50%;\n",
              "      cursor: pointer;\n",
              "      display: none;\n",
              "      fill: #1967D2;\n",
              "      height: 32px;\n",
              "      padding: 0 0 0 0;\n",
              "      width: 32px;\n",
              "    }\n",
              "\n",
              "    .colab-df-convert:hover {\n",
              "      background-color: #E2EBFA;\n",
              "      box-shadow: 0px 1px 2px rgba(60, 64, 67, 0.3), 0px 1px 3px 1px rgba(60, 64, 67, 0.15);\n",
              "      fill: #174EA6;\n",
              "    }\n",
              "\n",
              "    .colab-df-buttons div {\n",
              "      margin-bottom: 4px;\n",
              "    }\n",
              "\n",
              "    [theme=dark] .colab-df-convert {\n",
              "      background-color: #3B4455;\n",
              "      fill: #D2E3FC;\n",
              "    }\n",
              "\n",
              "    [theme=dark] .colab-df-convert:hover {\n",
              "      background-color: #434B5C;\n",
              "      box-shadow: 0px 1px 3px 1px rgba(0, 0, 0, 0.15);\n",
              "      filter: drop-shadow(0px 1px 2px rgba(0, 0, 0, 0.3));\n",
              "      fill: #FFFFFF;\n",
              "    }\n",
              "  </style>\n",
              "\n",
              "    <script>\n",
              "      const buttonEl =\n",
              "        document.querySelector('#df-d9163e86-cddd-4680-9dcc-fe4c8da3ec2c button.colab-df-convert');\n",
              "      buttonEl.style.display =\n",
              "        google.colab.kernel.accessAllowed ? 'block' : 'none';\n",
              "\n",
              "      async function convertToInteractive(key) {\n",
              "        const element = document.querySelector('#df-d9163e86-cddd-4680-9dcc-fe4c8da3ec2c');\n",
              "        const dataTable =\n",
              "          await google.colab.kernel.invokeFunction('convertToInteractive',\n",
              "                                                    [key], {});\n",
              "        if (!dataTable) return;\n",
              "\n",
              "        const docLinkHtml = 'Like what you see? Visit the ' +\n",
              "          '<a target=\"_blank\" href=https://colab.research.google.com/notebooks/data_table.ipynb>data table notebook</a>'\n",
              "          + ' to learn more about interactive tables.';\n",
              "        element.innerHTML = '';\n",
              "        dataTable['output_type'] = 'display_data';\n",
              "        await google.colab.output.renderOutput(dataTable, element);\n",
              "        const docLink = document.createElement('div');\n",
              "        docLink.innerHTML = docLinkHtml;\n",
              "        element.appendChild(docLink);\n",
              "      }\n",
              "    </script>\n",
              "  </div>\n",
              "\n",
              "\n",
              "<div id=\"df-c48bb646-7529-4649-86a0-c76fffe1a36a\">\n",
              "  <button class=\"colab-df-quickchart\" onclick=\"quickchart('df-c48bb646-7529-4649-86a0-c76fffe1a36a')\"\n",
              "            title=\"Suggest charts\"\n",
              "            style=\"display:none;\">\n",
              "\n",
              "<svg xmlns=\"http://www.w3.org/2000/svg\" height=\"24px\"viewBox=\"0 0 24 24\"\n",
              "     width=\"24px\">\n",
              "    <g>\n",
              "        <path d=\"M19 3H5c-1.1 0-2 .9-2 2v14c0 1.1.9 2 2 2h14c1.1 0 2-.9 2-2V5c0-1.1-.9-2-2-2zM9 17H7v-7h2v7zm4 0h-2V7h2v10zm4 0h-2v-4h2v4z\"/>\n",
              "    </g>\n",
              "</svg>\n",
              "  </button>\n",
              "\n",
              "<style>\n",
              "  .colab-df-quickchart {\n",
              "      --bg-color: #E8F0FE;\n",
              "      --fill-color: #1967D2;\n",
              "      --hover-bg-color: #E2EBFA;\n",
              "      --hover-fill-color: #174EA6;\n",
              "      --disabled-fill-color: #AAA;\n",
              "      --disabled-bg-color: #DDD;\n",
              "  }\n",
              "\n",
              "  [theme=dark] .colab-df-quickchart {\n",
              "      --bg-color: #3B4455;\n",
              "      --fill-color: #D2E3FC;\n",
              "      --hover-bg-color: #434B5C;\n",
              "      --hover-fill-color: #FFFFFF;\n",
              "      --disabled-bg-color: #3B4455;\n",
              "      --disabled-fill-color: #666;\n",
              "  }\n",
              "\n",
              "  .colab-df-quickchart {\n",
              "    background-color: var(--bg-color);\n",
              "    border: none;\n",
              "    border-radius: 50%;\n",
              "    cursor: pointer;\n",
              "    display: none;\n",
              "    fill: var(--fill-color);\n",
              "    height: 32px;\n",
              "    padding: 0;\n",
              "    width: 32px;\n",
              "  }\n",
              "\n",
              "  .colab-df-quickchart:hover {\n",
              "    background-color: var(--hover-bg-color);\n",
              "    box-shadow: 0 1px 2px rgba(60, 64, 67, 0.3), 0 1px 3px 1px rgba(60, 64, 67, 0.15);\n",
              "    fill: var(--button-hover-fill-color);\n",
              "  }\n",
              "\n",
              "  .colab-df-quickchart-complete:disabled,\n",
              "  .colab-df-quickchart-complete:disabled:hover {\n",
              "    background-color: var(--disabled-bg-color);\n",
              "    fill: var(--disabled-fill-color);\n",
              "    box-shadow: none;\n",
              "  }\n",
              "\n",
              "  .colab-df-spinner {\n",
              "    border: 2px solid var(--fill-color);\n",
              "    border-color: transparent;\n",
              "    border-bottom-color: var(--fill-color);\n",
              "    animation:\n",
              "      spin 1s steps(1) infinite;\n",
              "  }\n",
              "\n",
              "  @keyframes spin {\n",
              "    0% {\n",
              "      border-color: transparent;\n",
              "      border-bottom-color: var(--fill-color);\n",
              "      border-left-color: var(--fill-color);\n",
              "    }\n",
              "    20% {\n",
              "      border-color: transparent;\n",
              "      border-left-color: var(--fill-color);\n",
              "      border-top-color: var(--fill-color);\n",
              "    }\n",
              "    30% {\n",
              "      border-color: transparent;\n",
              "      border-left-color: var(--fill-color);\n",
              "      border-top-color: var(--fill-color);\n",
              "      border-right-color: var(--fill-color);\n",
              "    }\n",
              "    40% {\n",
              "      border-color: transparent;\n",
              "      border-right-color: var(--fill-color);\n",
              "      border-top-color: var(--fill-color);\n",
              "    }\n",
              "    60% {\n",
              "      border-color: transparent;\n",
              "      border-right-color: var(--fill-color);\n",
              "    }\n",
              "    80% {\n",
              "      border-color: transparent;\n",
              "      border-right-color: var(--fill-color);\n",
              "      border-bottom-color: var(--fill-color);\n",
              "    }\n",
              "    90% {\n",
              "      border-color: transparent;\n",
              "      border-bottom-color: var(--fill-color);\n",
              "    }\n",
              "  }\n",
              "</style>\n",
              "\n",
              "  <script>\n",
              "    async function quickchart(key) {\n",
              "      const quickchartButtonEl =\n",
              "        document.querySelector('#' + key + ' button');\n",
              "      quickchartButtonEl.disabled = true;  // To prevent multiple clicks.\n",
              "      quickchartButtonEl.classList.add('colab-df-spinner');\n",
              "      try {\n",
              "        const charts = await google.colab.kernel.invokeFunction(\n",
              "            'suggestCharts', [key], {});\n",
              "      } catch (error) {\n",
              "        console.error('Error during call to suggestCharts:', error);\n",
              "      }\n",
              "      quickchartButtonEl.classList.remove('colab-df-spinner');\n",
              "      quickchartButtonEl.classList.add('colab-df-quickchart-complete');\n",
              "    }\n",
              "    (() => {\n",
              "      let quickchartButtonEl =\n",
              "        document.querySelector('#df-c48bb646-7529-4649-86a0-c76fffe1a36a button');\n",
              "      quickchartButtonEl.style.display =\n",
              "        google.colab.kernel.accessAllowed ? 'block' : 'none';\n",
              "    })();\n",
              "  </script>\n",
              "</div>\n",
              "    </div>\n",
              "  </div>\n"
            ],
            "text/plain": [
              "      ad_archive_id      page_id              page_name ad_creation_time  \\\n",
              "0      2.079160e+14  47217143218  BÜNDNIS 90/DIE GRÜNEN       2023-11-09   \n",
              "1      8.494960e+14  47217143218  BÜNDNIS 90/DIE GRÜNEN       2023-11-09   \n",
              "2      7.326677e+14  47217143218  BÜNDNIS 90/DIE GRÜNEN       2023-11-09   \n",
              "3      1.045265e+15  47217143218  BÜNDNIS 90/DIE GRÜNEN       2023-11-09   \n",
              "4      6.500607e+14  47217143218  BÜNDNIS 90/DIE GRÜNEN       2023-11-09   \n",
              "...             ...          ...                    ...              ...   \n",
              "8298   3.077834e+14  47217143218  BÜNDNIS 90/DIE GRÜNEN       2019-04-15   \n",
              "8299   2.690442e+14  47217143218  BÜNDNIS 90/DIE GRÜNEN       2019-04-15   \n",
              "8300   2.356636e+15  47217143218  BÜNDNIS 90/DIE GRÜNEN       2019-04-15   \n",
              "8301   3.563829e+14  47217143218  BÜNDNIS 90/DIE GRÜNEN       2019-04-14   \n",
              "8302   2.153310e+15  47217143218  BÜNDNIS 90/DIE GRÜNEN       2019-04-14   \n",
              "\n",
              "     ad_delivery_start_time ad_delivery_stop_time                 byline  \\\n",
              "0                2023-11-10            2023-11-16  Bündnis 90/Die Grünen   \n",
              "1                2023-11-10            2023-11-20  Bündnis 90/Die Grünen   \n",
              "2                2023-11-09            2023-11-10  Bündnis 90/Die Grünen   \n",
              "3                2023-11-09            2023-11-10  Bündnis 90/Die Grünen   \n",
              "4                2023-11-09            2023-11-09  Bündnis 90/Die Grünen   \n",
              "...                     ...                   ...                    ...   \n",
              "8298             2019-04-15            2019-04-16  BÜNDNIS 90/DIE GRÜNEN   \n",
              "8299             2019-04-15            2019-04-16                   None   \n",
              "8300             2019-04-15            2019-04-15                   None   \n",
              "8301             2019-04-15            2019-04-15  BÜNDNIS 90/DIE GRÜNEN   \n",
              "8302             2019-04-15            2019-04-15  BÜNDNIS 90/DIE GRÜNEN   \n",
              "\n",
              "                                     ad_creative_bodies  \\\n",
              "0     Werde Teil unserer grünen Gemeinschaft und sup...   \n",
              "1     Gemeinsam stark machen für unsere Demokratie? ...   \n",
              "2     Gemeinsam stark machen für unsere Demokratie? ...   \n",
              "3     Werde Teil unserer grünen Gemeinschaft und sup...   \n",
              "4     Gemeinsam stark machen für unsere Demokratie? ...   \n",
              "...                                                 ...   \n",
              "8298  Du findest, deine Hood könnte noch ein bissche...   \n",
              "8299  Du findest, deine Hood könnte noch ein bissche...   \n",
              "8300  Du findest, deine Hood könnte noch ein bissche...   \n",
              "8301  Du findest, deine Hood könnte noch ein bissche...   \n",
              "8302  Du findest, deine Hood könnte noch ein bissche...   \n",
              "\n",
              "                                 impressions  \\\n",
              "0       lower_bound: 8000, upper_bound: 8999   \n",
              "1     lower_bound: 15000, upper_bound: 19999   \n",
              "2       lower_bound: 2000, upper_bound: 2999   \n",
              "3           lower_bound: 0, upper_bound: 999   \n",
              "4       lower_bound: 8000, upper_bound: 8999   \n",
              "...                                      ...   \n",
              "8298  lower_bound: 10000, upper_bound: 14999   \n",
              "8299        lower_bound: 0, upper_bound: 999   \n",
              "8300    lower_bound: 2000, upper_bound: 2999   \n",
              "8301    lower_bound: 2000, upper_bound: 2999   \n",
              "8302    lower_bound: 1000, upper_bound: 1999   \n",
              "\n",
              "                                   spend  \\\n",
              "0     lower_bound: 100, upper_bound: 199   \n",
              "1     lower_bound: 300, upper_bound: 399   \n",
              "2        lower_bound: 0, upper_bound: 99   \n",
              "3        lower_bound: 0, upper_bound: 99   \n",
              "4     lower_bound: 200, upper_bound: 299   \n",
              "...                                  ...   \n",
              "8298     lower_bound: 0, upper_bound: 99   \n",
              "8299     lower_bound: 0, upper_bound: 99   \n",
              "8300     lower_bound: 0, upper_bound: 99   \n",
              "8301     lower_bound: 0, upper_bound: 99   \n",
              "8302     lower_bound: 0, upper_bound: 99   \n",
              "\n",
              "                               demographic_distribution  \\\n",
              "0     {\"age\":\"35-44\",\"gender\":\"unknown\",\"percentage\"...   \n",
              "1     {\"age\":\"65+\",\"gender\":\"unknown\",\"percentage\":0...   \n",
              "2     {\"age\":\"55-64\",\"gender\":\"unknown\",\"percentage\"...   \n",
              "3     {\"age\":\"35-44\",\"gender\":\"female\",\"percentage\":...   \n",
              "4     {\"age\":\"45-54\",\"gender\":\"unknown\",\"percentage\"...   \n",
              "...                                                 ...   \n",
              "8298  {\"age\":\"25-34\",\"gender\":\"male\",\"percentage\":0....   \n",
              "8299  {\"age\":\"18-24\",\"gender\":\"male\",\"percentage\":0....   \n",
              "8300  {\"age\":\"18-24\",\"gender\":\"male\",\"percentage\":0....   \n",
              "8301  {\"age\":\"45-54\",\"gender\":\"female\",\"percentage\":...   \n",
              "8302  {\"age\":\"45-54\",\"gender\":\"male\",\"percentage\":0....   \n",
              "\n",
              "                                     delivery_by_region publisher_platforms  \\\n",
              "0     {\"region\":\"Baden-W\\u00fcrttemberg\",\"percentage...           instagram   \n",
              "1     {\"region\":\"Unknown\",\"percentage\":0.001151},{\"r...           instagram   \n",
              "2     {\"region\":\"Unknown\",\"percentage\":0.001014},{\"r...           instagram   \n",
              "3     {\"region\":\"Baden-W\\u00fcrttemberg\",\"percentage...           instagram   \n",
              "4     {\"region\":\"Unknown\",\"percentage\":0.000136},{\"r...           instagram   \n",
              "...                                                 ...                 ...   \n",
              "8298  {\"region\":\"Baden-W\\u00fcrttemberg\",\"percentage...            facebook   \n",
              "8299  {\"region\":\"Unknown\",\"percentage\":0.005574},{\"r...           instagram   \n",
              "8300  {\"region\":\"Unknown\",\"percentage\":0.006494},{\"r...           instagram   \n",
              "8301  {\"region\":\"Baden-W\\u00fcrttemberg\",\"percentage...            facebook   \n",
              "8302  {\"region\":\"Baden-W\\u00fcrttemberg\",\"percentage...            facebook   \n",
              "\n",
              "                       estimated_audience_size  \n",
              "0     lower_bound: 100001, upper_bound: 500000  \n",
              "1     lower_bound: 100001, upper_bound: 500000  \n",
              "2     lower_bound: 100001, upper_bound: 500000  \n",
              "3     lower_bound: 100001, upper_bound: 500000  \n",
              "4     lower_bound: 100001, upper_bound: 500000  \n",
              "...                                        ...  \n",
              "8298                                      None  \n",
              "8299                                      None  \n",
              "8300                                      None  \n",
              "8301                                      None  \n",
              "8302                                      None  \n",
              "\n",
              "[8303 rows x 14 columns]"
            ]
          },
          "execution_count": 5,
          "metadata": {},
          "output_type": "execute_result"
        }
      ],
      "source": [
        "df\n"
      ]
    },
    {
      "cell_type": "code",
      "execution_count": null,
      "metadata": {
        "colab": {
          "base_uri": "https://localhost:8080/",
          "height": 160
        },
        "id": "kiKz_R22zzBG",
        "outputId": "a9a6c712-f5f9-496b-e38f-342bda55b72a"
      },
      "outputs": [
        {
          "data": {
            "application/vnd.google.colaboratory.intrinsic+json": {
              "type": "string"
            },
            "text/plain": [
              "'{\"age\":\"35-44\",\"gender\":\"unknown\",\"percentage\":0.00246},{\"age\":\"45-54\",\"gender\":\"male\",\"percentage\":0.126572},{\"age\":\"55-64\",\"gender\":\"female\",\"percentage\":0.108256},{\"age\":\"45-54\",\"gender\":\"female\",\"percentage\":0.094724},{\"age\":\"65+\",\"gender\":\"female\",\"percentage\":0.038272},{\"age\":\"25-34\",\"gender\":\"female\",\"percentage\":0.051668},{\"age\":\"25-34\",\"gender\":\"male\",\"percentage\":0.134363},{\"age\":\"35-44\",\"gender\":\"male\",\"percentage\":0.111673},{\"age\":\"55-64\",\"gender\":\"male\",\"percentage\":0.122881},{\"age\":\"55-64\",\"gender\":\"unknown\",\"percentage\":0.00205},{\"age\":\"25-34\",\"gender\":\"unknown\",\"percentage\":0.004647},{\"age\":\"18-24\",\"gender\":\"unknown\",\"percentage\":0.00246},{\"age\":\"65+\",\"gender\":\"male\",\"percentage\":0.065883},{\"age\":\"18-24\",\"gender\":\"male\",\"percentage\":0.055085},{\"age\":\"18-24\",\"gender\":\"female\",\"percentage\":0.016129},{\"age\":\"65+\",\"gender\":\"unknown\",\"percentage\":0.001093},{\"age\":\"45-54\",\"gender\":\"unknown\",\"percentage\":0.00246},{\"age\":\"35-44\",\"gender\":\"female\",\"percentage\":0.059322}'"
            ]
          },
          "execution_count": 10,
          "metadata": {},
          "output_type": "execute_result"
        }
      ],
      "source": [
        "df['demographic_distribution'][0]\n"
      ]
    },
    {
      "cell_type": "code",
      "execution_count": null,
      "metadata": {
        "colab": {
          "base_uri": "https://localhost:8080/"
        },
        "id": "rWypMuTmNtNF",
        "outputId": "9c69574b-9e96-4fa0-e86b-330241652988"
      },
      "outputs": [
        {
          "data": {
            "text/plain": [
              "str"
            ]
          },
          "execution_count": 18,
          "metadata": {},
          "output_type": "execute_result"
        }
      ],
      "source": [
        "type(df['demographic_distribution'][0])\n"
      ]
    },
    {
      "cell_type": "code",
      "execution_count": null,
      "metadata": {
        "colab": {
          "base_uri": "https://localhost:8080/"
        },
        "id": "AlRLDvJQO6hC",
        "outputId": "c475071c-2db2-413b-ecd2-ff74668472b1"
      },
      "outputs": [
        {
          "data": {
            "text/plain": [
              "1442"
            ]
          },
          "execution_count": 29,
          "metadata": {},
          "output_type": "execute_result"
        }
      ],
      "source": [
        "df['demographic_distribution'].isna().sum()\n"
      ]
    },
    {
      "cell_type": "code",
      "execution_count": null,
      "metadata": {
        "colab": {
          "base_uri": "https://localhost:8080/",
          "height": 506
        },
        "id": "1gyd7erFPjtP",
        "outputId": "070f1f84-8e28-4123-a3ef-4fe3a74fd674"
      },
      "outputs": [
        {
          "ename": "ValueError",
          "evalue": "ignored",
          "output_type": "error",
          "traceback": [
            "\u001b[0;31m---------------------------------------------------------------------------\u001b[0m",
            "\u001b[0;31mValueError\u001b[0m                                Traceback (most recent call last)",
            "\u001b[0;32m<ipython-input-33-025af710d259>\u001b[0m in \u001b[0;36m<cell line: 6>\u001b[0;34m()\u001b[0m\n\u001b[1;32m      4\u001b[0m \u001b[0;34m\u001b[0m\u001b[0m\n\u001b[1;32m      5\u001b[0m \u001b[0;31m# Convert string representation of dictionary to actual dictionary\u001b[0m\u001b[0;34m\u001b[0m\u001b[0;34m\u001b[0m\u001b[0m\n\u001b[0;32m----> 6\u001b[0;31m \u001b[0mdf\u001b[0m\u001b[0;34m[\u001b[0m\u001b[0;34m'demographic_distribution'\u001b[0m\u001b[0;34m]\u001b[0m \u001b[0;34m=\u001b[0m \u001b[0mdf\u001b[0m\u001b[0;34m[\u001b[0m\u001b[0;34m'demographic_distribution'\u001b[0m\u001b[0;34m]\u001b[0m\u001b[0;34m.\u001b[0m\u001b[0mapply\u001b[0m\u001b[0;34m(\u001b[0m\u001b[0;32mlambda\u001b[0m \u001b[0mx\u001b[0m\u001b[0;34m:\u001b[0m \u001b[0mast\u001b[0m\u001b[0;34m.\u001b[0m\u001b[0mliteral_eval\u001b[0m\u001b[0;34m(\u001b[0m\u001b[0mx\u001b[0m\u001b[0;34m)\u001b[0m \u001b[0;32mif\u001b[0m \u001b[0mx\u001b[0m \u001b[0;32mis\u001b[0m \u001b[0;32mnot\u001b[0m \u001b[0;32mNone\u001b[0m \u001b[0;32melse\u001b[0m \u001b[0;32mNone\u001b[0m\u001b[0;34m)\u001b[0m\u001b[0;34m\u001b[0m\u001b[0;34m\u001b[0m\u001b[0m\n\u001b[0m",
            "\u001b[0;32m/usr/local/lib/python3.10/dist-packages/pandas/core/series.py\u001b[0m in \u001b[0;36mapply\u001b[0;34m(self, func, convert_dtype, args, **kwargs)\u001b[0m\n\u001b[1;32m   4769\u001b[0m         \u001b[0mdtype\u001b[0m\u001b[0;34m:\u001b[0m \u001b[0mfloat64\u001b[0m\u001b[0;34m\u001b[0m\u001b[0;34m\u001b[0m\u001b[0m\n\u001b[1;32m   4770\u001b[0m         \"\"\"\n\u001b[0;32m-> 4771\u001b[0;31m         \u001b[0;32mreturn\u001b[0m \u001b[0mSeriesApply\u001b[0m\u001b[0;34m(\u001b[0m\u001b[0mself\u001b[0m\u001b[0;34m,\u001b[0m \u001b[0mfunc\u001b[0m\u001b[0;34m,\u001b[0m \u001b[0mconvert_dtype\u001b[0m\u001b[0;34m,\u001b[0m \u001b[0margs\u001b[0m\u001b[0;34m,\u001b[0m \u001b[0mkwargs\u001b[0m\u001b[0;34m)\u001b[0m\u001b[0;34m.\u001b[0m\u001b[0mapply\u001b[0m\u001b[0;34m(\u001b[0m\u001b[0;34m)\u001b[0m\u001b[0;34m\u001b[0m\u001b[0;34m\u001b[0m\u001b[0m\n\u001b[0m\u001b[1;32m   4772\u001b[0m \u001b[0;34m\u001b[0m\u001b[0m\n\u001b[1;32m   4773\u001b[0m     def _reduce(\n",
            "\u001b[0;32m/usr/local/lib/python3.10/dist-packages/pandas/core/apply.py\u001b[0m in \u001b[0;36mapply\u001b[0;34m(self)\u001b[0m\n\u001b[1;32m   1121\u001b[0m \u001b[0;34m\u001b[0m\u001b[0m\n\u001b[1;32m   1122\u001b[0m         \u001b[0;31m# self.f is Callable\u001b[0m\u001b[0;34m\u001b[0m\u001b[0;34m\u001b[0m\u001b[0m\n\u001b[0;32m-> 1123\u001b[0;31m         \u001b[0;32mreturn\u001b[0m \u001b[0mself\u001b[0m\u001b[0;34m.\u001b[0m\u001b[0mapply_standard\u001b[0m\u001b[0;34m(\u001b[0m\u001b[0;34m)\u001b[0m\u001b[0;34m\u001b[0m\u001b[0;34m\u001b[0m\u001b[0m\n\u001b[0m\u001b[1;32m   1124\u001b[0m \u001b[0;34m\u001b[0m\u001b[0m\n\u001b[1;32m   1125\u001b[0m     \u001b[0;32mdef\u001b[0m \u001b[0magg\u001b[0m\u001b[0;34m(\u001b[0m\u001b[0mself\u001b[0m\u001b[0;34m)\u001b[0m\u001b[0;34m:\u001b[0m\u001b[0;34m\u001b[0m\u001b[0;34m\u001b[0m\u001b[0m\n",
            "\u001b[0;32m/usr/local/lib/python3.10/dist-packages/pandas/core/apply.py\u001b[0m in \u001b[0;36mapply_standard\u001b[0;34m(self)\u001b[0m\n\u001b[1;32m   1172\u001b[0m             \u001b[0;32melse\u001b[0m\u001b[0;34m:\u001b[0m\u001b[0;34m\u001b[0m\u001b[0;34m\u001b[0m\u001b[0m\n\u001b[1;32m   1173\u001b[0m                 \u001b[0mvalues\u001b[0m \u001b[0;34m=\u001b[0m \u001b[0mobj\u001b[0m\u001b[0;34m.\u001b[0m\u001b[0mastype\u001b[0m\u001b[0;34m(\u001b[0m\u001b[0mobject\u001b[0m\u001b[0;34m)\u001b[0m\u001b[0;34m.\u001b[0m\u001b[0m_values\u001b[0m\u001b[0;34m\u001b[0m\u001b[0;34m\u001b[0m\u001b[0m\n\u001b[0;32m-> 1174\u001b[0;31m                 mapped = lib.map_infer(\n\u001b[0m\u001b[1;32m   1175\u001b[0m                     \u001b[0mvalues\u001b[0m\u001b[0;34m,\u001b[0m\u001b[0;34m\u001b[0m\u001b[0;34m\u001b[0m\u001b[0m\n\u001b[1;32m   1176\u001b[0m                     \u001b[0mf\u001b[0m\u001b[0;34m,\u001b[0m\u001b[0;34m\u001b[0m\u001b[0;34m\u001b[0m\u001b[0m\n",
            "\u001b[0;32m/usr/local/lib/python3.10/dist-packages/pandas/_libs/lib.pyx\u001b[0m in \u001b[0;36mpandas._libs.lib.map_infer\u001b[0;34m()\u001b[0m\n",
            "\u001b[0;32m<ipython-input-33-025af710d259>\u001b[0m in \u001b[0;36m<lambda>\u001b[0;34m(x)\u001b[0m\n\u001b[1;32m      4\u001b[0m \u001b[0;34m\u001b[0m\u001b[0m\n\u001b[1;32m      5\u001b[0m \u001b[0;31m# Convert string representation of dictionary to actual dictionary\u001b[0m\u001b[0;34m\u001b[0m\u001b[0;34m\u001b[0m\u001b[0m\n\u001b[0;32m----> 6\u001b[0;31m \u001b[0mdf\u001b[0m\u001b[0;34m[\u001b[0m\u001b[0;34m'demographic_distribution'\u001b[0m\u001b[0;34m]\u001b[0m \u001b[0;34m=\u001b[0m \u001b[0mdf\u001b[0m\u001b[0;34m[\u001b[0m\u001b[0;34m'demographic_distribution'\u001b[0m\u001b[0;34m]\u001b[0m\u001b[0;34m.\u001b[0m\u001b[0mapply\u001b[0m\u001b[0;34m(\u001b[0m\u001b[0;32mlambda\u001b[0m \u001b[0mx\u001b[0m\u001b[0;34m:\u001b[0m \u001b[0mast\u001b[0m\u001b[0;34m.\u001b[0m\u001b[0mliteral_eval\u001b[0m\u001b[0;34m(\u001b[0m\u001b[0mx\u001b[0m\u001b[0;34m)\u001b[0m \u001b[0;32mif\u001b[0m \u001b[0mx\u001b[0m \u001b[0;32mis\u001b[0m \u001b[0;32mnot\u001b[0m \u001b[0;32mNone\u001b[0m \u001b[0;32melse\u001b[0m \u001b[0;32mNone\u001b[0m\u001b[0;34m)\u001b[0m\u001b[0;34m\u001b[0m\u001b[0;34m\u001b[0m\u001b[0m\n\u001b[0m",
            "\u001b[0;32m/usr/lib/python3.10/ast.py\u001b[0m in \u001b[0;36mliteral_eval\u001b[0;34m(node_or_string)\u001b[0m\n\u001b[1;32m    108\u001b[0m                     \u001b[0;32mreturn\u001b[0m \u001b[0mleft\u001b[0m \u001b[0;34m-\u001b[0m \u001b[0mright\u001b[0m\u001b[0;34m\u001b[0m\u001b[0;34m\u001b[0m\u001b[0m\n\u001b[1;32m    109\u001b[0m         \u001b[0;32mreturn\u001b[0m \u001b[0m_convert_signed_num\u001b[0m\u001b[0;34m(\u001b[0m\u001b[0mnode\u001b[0m\u001b[0;34m)\u001b[0m\u001b[0;34m\u001b[0m\u001b[0;34m\u001b[0m\u001b[0m\n\u001b[0;32m--> 110\u001b[0;31m     \u001b[0;32mreturn\u001b[0m \u001b[0m_convert\u001b[0m\u001b[0;34m(\u001b[0m\u001b[0mnode_or_string\u001b[0m\u001b[0;34m)\u001b[0m\u001b[0;34m\u001b[0m\u001b[0;34m\u001b[0m\u001b[0m\n\u001b[0m\u001b[1;32m    111\u001b[0m \u001b[0;34m\u001b[0m\u001b[0m\n\u001b[1;32m    112\u001b[0m \u001b[0;34m\u001b[0m\u001b[0m\n",
            "\u001b[0;32m/usr/lib/python3.10/ast.py\u001b[0m in \u001b[0;36m_convert\u001b[0;34m(node)\u001b[0m\n\u001b[1;32m    107\u001b[0m                 \u001b[0;32melse\u001b[0m\u001b[0;34m:\u001b[0m\u001b[0;34m\u001b[0m\u001b[0;34m\u001b[0m\u001b[0m\n\u001b[1;32m    108\u001b[0m                     \u001b[0;32mreturn\u001b[0m \u001b[0mleft\u001b[0m \u001b[0;34m-\u001b[0m \u001b[0mright\u001b[0m\u001b[0;34m\u001b[0m\u001b[0;34m\u001b[0m\u001b[0m\n\u001b[0;32m--> 109\u001b[0;31m         \u001b[0;32mreturn\u001b[0m \u001b[0m_convert_signed_num\u001b[0m\u001b[0;34m(\u001b[0m\u001b[0mnode\u001b[0m\u001b[0;34m)\u001b[0m\u001b[0;34m\u001b[0m\u001b[0;34m\u001b[0m\u001b[0m\n\u001b[0m\u001b[1;32m    110\u001b[0m     \u001b[0;32mreturn\u001b[0m \u001b[0m_convert\u001b[0m\u001b[0;34m(\u001b[0m\u001b[0mnode_or_string\u001b[0m\u001b[0;34m)\u001b[0m\u001b[0;34m\u001b[0m\u001b[0;34m\u001b[0m\u001b[0m\n\u001b[1;32m    111\u001b[0m \u001b[0;34m\u001b[0m\u001b[0m\n",
            "\u001b[0;32m/usr/lib/python3.10/ast.py\u001b[0m in \u001b[0;36m_convert_signed_num\u001b[0;34m(node)\u001b[0m\n\u001b[1;32m     81\u001b[0m             \u001b[0;32melse\u001b[0m\u001b[0;34m:\u001b[0m\u001b[0;34m\u001b[0m\u001b[0;34m\u001b[0m\u001b[0m\n\u001b[1;32m     82\u001b[0m                 \u001b[0;32mreturn\u001b[0m \u001b[0;34m-\u001b[0m \u001b[0moperand\u001b[0m\u001b[0;34m\u001b[0m\u001b[0;34m\u001b[0m\u001b[0m\n\u001b[0;32m---> 83\u001b[0;31m         \u001b[0;32mreturn\u001b[0m \u001b[0m_convert_num\u001b[0m\u001b[0;34m(\u001b[0m\u001b[0mnode\u001b[0m\u001b[0;34m)\u001b[0m\u001b[0;34m\u001b[0m\u001b[0;34m\u001b[0m\u001b[0m\n\u001b[0m\u001b[1;32m     84\u001b[0m     \u001b[0;32mdef\u001b[0m \u001b[0m_convert\u001b[0m\u001b[0;34m(\u001b[0m\u001b[0mnode\u001b[0m\u001b[0;34m)\u001b[0m\u001b[0;34m:\u001b[0m\u001b[0;34m\u001b[0m\u001b[0;34m\u001b[0m\u001b[0m\n\u001b[1;32m     85\u001b[0m         \u001b[0;32mif\u001b[0m \u001b[0misinstance\u001b[0m\u001b[0;34m(\u001b[0m\u001b[0mnode\u001b[0m\u001b[0;34m,\u001b[0m \u001b[0mConstant\u001b[0m\u001b[0;34m)\u001b[0m\u001b[0;34m:\u001b[0m\u001b[0;34m\u001b[0m\u001b[0;34m\u001b[0m\u001b[0m\n",
            "\u001b[0;32m/usr/lib/python3.10/ast.py\u001b[0m in \u001b[0;36m_convert_num\u001b[0;34m(node)\u001b[0m\n\u001b[1;32m     72\u001b[0m     \u001b[0;32mdef\u001b[0m \u001b[0m_convert_num\u001b[0m\u001b[0;34m(\u001b[0m\u001b[0mnode\u001b[0m\u001b[0;34m)\u001b[0m\u001b[0;34m:\u001b[0m\u001b[0;34m\u001b[0m\u001b[0;34m\u001b[0m\u001b[0m\n\u001b[1;32m     73\u001b[0m         \u001b[0;32mif\u001b[0m \u001b[0;32mnot\u001b[0m \u001b[0misinstance\u001b[0m\u001b[0;34m(\u001b[0m\u001b[0mnode\u001b[0m\u001b[0;34m,\u001b[0m \u001b[0mConstant\u001b[0m\u001b[0;34m)\u001b[0m \u001b[0;32mor\u001b[0m \u001b[0mtype\u001b[0m\u001b[0;34m(\u001b[0m\u001b[0mnode\u001b[0m\u001b[0;34m.\u001b[0m\u001b[0mvalue\u001b[0m\u001b[0;34m)\u001b[0m \u001b[0;32mnot\u001b[0m \u001b[0;32min\u001b[0m \u001b[0;34m(\u001b[0m\u001b[0mint\u001b[0m\u001b[0;34m,\u001b[0m \u001b[0mfloat\u001b[0m\u001b[0;34m,\u001b[0m \u001b[0mcomplex\u001b[0m\u001b[0;34m)\u001b[0m\u001b[0;34m:\u001b[0m\u001b[0;34m\u001b[0m\u001b[0;34m\u001b[0m\u001b[0m\n\u001b[0;32m---> 74\u001b[0;31m             \u001b[0m_raise_malformed_node\u001b[0m\u001b[0;34m(\u001b[0m\u001b[0mnode\u001b[0m\u001b[0;34m)\u001b[0m\u001b[0;34m\u001b[0m\u001b[0;34m\u001b[0m\u001b[0m\n\u001b[0m\u001b[1;32m     75\u001b[0m         \u001b[0;32mreturn\u001b[0m \u001b[0mnode\u001b[0m\u001b[0;34m.\u001b[0m\u001b[0mvalue\u001b[0m\u001b[0;34m\u001b[0m\u001b[0;34m\u001b[0m\u001b[0m\n\u001b[1;32m     76\u001b[0m     \u001b[0;32mdef\u001b[0m \u001b[0m_convert_signed_num\u001b[0m\u001b[0;34m(\u001b[0m\u001b[0mnode\u001b[0m\u001b[0;34m)\u001b[0m\u001b[0;34m:\u001b[0m\u001b[0;34m\u001b[0m\u001b[0;34m\u001b[0m\u001b[0m\n",
            "\u001b[0;32m/usr/lib/python3.10/ast.py\u001b[0m in \u001b[0;36m_raise_malformed_node\u001b[0;34m(node)\u001b[0m\n\u001b[1;32m     69\u001b[0m         \u001b[0;32mif\u001b[0m \u001b[0mlno\u001b[0m \u001b[0;34m:=\u001b[0m \u001b[0mgetattr\u001b[0m\u001b[0;34m(\u001b[0m\u001b[0mnode\u001b[0m\u001b[0;34m,\u001b[0m \u001b[0;34m'lineno'\u001b[0m\u001b[0;34m,\u001b[0m \u001b[0;32mNone\u001b[0m\u001b[0;34m)\u001b[0m\u001b[0;34m:\u001b[0m\u001b[0;34m\u001b[0m\u001b[0;34m\u001b[0m\u001b[0m\n\u001b[1;32m     70\u001b[0m             \u001b[0mmsg\u001b[0m \u001b[0;34m+=\u001b[0m \u001b[0;34mf' on line {lno}'\u001b[0m\u001b[0;34m\u001b[0m\u001b[0;34m\u001b[0m\u001b[0m\n\u001b[0;32m---> 71\u001b[0;31m         \u001b[0;32mraise\u001b[0m \u001b[0mValueError\u001b[0m\u001b[0;34m(\u001b[0m\u001b[0mmsg\u001b[0m \u001b[0;34m+\u001b[0m \u001b[0;34mf': {node!r}'\u001b[0m\u001b[0;34m)\u001b[0m\u001b[0;34m\u001b[0m\u001b[0;34m\u001b[0m\u001b[0m\n\u001b[0m\u001b[1;32m     72\u001b[0m     \u001b[0;32mdef\u001b[0m \u001b[0m_convert_num\u001b[0m\u001b[0;34m(\u001b[0m\u001b[0mnode\u001b[0m\u001b[0;34m)\u001b[0m\u001b[0;34m:\u001b[0m\u001b[0;34m\u001b[0m\u001b[0;34m\u001b[0m\u001b[0m\n\u001b[1;32m     73\u001b[0m         \u001b[0;32mif\u001b[0m \u001b[0;32mnot\u001b[0m \u001b[0misinstance\u001b[0m\u001b[0;34m(\u001b[0m\u001b[0mnode\u001b[0m\u001b[0;34m,\u001b[0m \u001b[0mConstant\u001b[0m\u001b[0;34m)\u001b[0m \u001b[0;32mor\u001b[0m \u001b[0mtype\u001b[0m\u001b[0;34m(\u001b[0m\u001b[0mnode\u001b[0m\u001b[0;34m.\u001b[0m\u001b[0mvalue\u001b[0m\u001b[0;34m)\u001b[0m \u001b[0;32mnot\u001b[0m \u001b[0;32min\u001b[0m \u001b[0;34m(\u001b[0m\u001b[0mint\u001b[0m\u001b[0;34m,\u001b[0m \u001b[0mfloat\u001b[0m\u001b[0;34m,\u001b[0m \u001b[0mcomplex\u001b[0m\u001b[0;34m)\u001b[0m\u001b[0;34m:\u001b[0m\u001b[0;34m\u001b[0m\u001b[0;34m\u001b[0m\u001b[0m\n",
            "\u001b[0;31mValueError\u001b[0m: malformed node or string: ({'age': '35-44', 'gender': 'unknown', 'percentage': 0.00246}, {'age': '45-54', 'gender': 'male', 'percentage': 0.126572}, {'age': '55-64', 'gender': 'female', 'percentage': 0.108256}, {'age': '45-54', 'gender': 'female', 'percentage': 0.094724}, {'age': '65+', 'gender': 'female', 'percentage': 0.038272}, {'age': '25-34', 'gender': 'female', 'percentage': 0.051668}, {'age': '25-34', 'gender': 'male', 'percentage': 0.134363}, {'age': '35-44', 'gender': 'male', 'percentage': 0.111673}, {'age': '55-64', 'gender': 'male', 'percentage': 0.122881}, {'age': '55-64', 'gender': 'unknown', 'percentage': 0.00205}, {'age': '25-34', 'gender': 'unknown', 'percentage': 0.004647}, {'age': '18-24', 'gender': 'unknown', 'percentage': 0.00246}, {'age': '65+', 'gender': 'male', 'percentage': 0.065883}, {'age': '18-24', 'gender': 'male', 'percentage': 0.055085}, {'age': '18-24', 'gender': 'female', 'percentage': 0.016129}, {'age': '65+', 'gender': 'unknown', 'percentage': 0.001093}, {'age': '45-54', 'gender': 'unknown', 'percentage': 0.00246}, {'age': '35-44', 'gender': 'female', 'percentage': 0.059322})"
          ]
        }
      ],
      "source": [
        "import ast\n",
        "# Drop rows with None values in 'demographic_distribution'\n",
        "df = df.dropna(subset=['demographic_distribution'])\n",
        "\n",
        "# Convert string representation of dictionary to actual dictionary\n",
        "df['demographic_distribution'] = df['demographic_distribution'].apply(lambda x: ast.literal_eval(x) if x is not None else None)\n"
      ]
    },
    {
      "cell_type": "code",
      "execution_count": null,
      "metadata": {
        "colab": {
          "base_uri": "https://localhost:8080/"
        },
        "id": "WFjkQGGZMUJs",
        "outputId": "4a720a60-b3b6-43ff-a9df-568538782ec8"
      },
      "outputs": [
        {
          "data": {
            "text/plain": [
              "tuple"
            ]
          },
          "execution_count": 35,
          "metadata": {},
          "output_type": "execute_result"
        }
      ],
      "source": [
        "type(df['demographic_distribution'][0])\n"
      ]
    },
    {
      "cell_type": "code",
      "execution_count": null,
      "metadata": {
        "colab": {
          "base_uri": "https://localhost:8080/"
        },
        "id": "fc-LFw-wPzJh",
        "outputId": "c7250ba8-b812-4268-810d-649e0da7e918"
      },
      "outputs": [
        {
          "data": {
            "text/plain": [
              "({'age': '35-44', 'gender': 'unknown', 'percentage': 0.00246},\n",
              " {'age': '45-54', 'gender': 'male', 'percentage': 0.126572},\n",
              " {'age': '55-64', 'gender': 'female', 'percentage': 0.108256},\n",
              " {'age': '45-54', 'gender': 'female', 'percentage': 0.094724},\n",
              " {'age': '65+', 'gender': 'female', 'percentage': 0.038272},\n",
              " {'age': '25-34', 'gender': 'female', 'percentage': 0.051668},\n",
              " {'age': '25-34', 'gender': 'male', 'percentage': 0.134363},\n",
              " {'age': '35-44', 'gender': 'male', 'percentage': 0.111673},\n",
              " {'age': '55-64', 'gender': 'male', 'percentage': 0.122881},\n",
              " {'age': '55-64', 'gender': 'unknown', 'percentage': 0.00205},\n",
              " {'age': '25-34', 'gender': 'unknown', 'percentage': 0.004647},\n",
              " {'age': '18-24', 'gender': 'unknown', 'percentage': 0.00246},\n",
              " {'age': '65+', 'gender': 'male', 'percentage': 0.065883},\n",
              " {'age': '18-24', 'gender': 'male', 'percentage': 0.055085},\n",
              " {'age': '18-24', 'gender': 'female', 'percentage': 0.016129},\n",
              " {'age': '65+', 'gender': 'unknown', 'percentage': 0.001093},\n",
              " {'age': '45-54', 'gender': 'unknown', 'percentage': 0.00246},\n",
              " {'age': '35-44', 'gender': 'female', 'percentage': 0.059322})"
            ]
          },
          "execution_count": 42,
          "metadata": {},
          "output_type": "execute_result"
        }
      ],
      "source": [
        "data = df['demographic_distribution'][0]\n",
        "data\n"
      ]
    },
    {
      "cell_type": "code",
      "execution_count": null,
      "metadata": {
        "colab": {
          "base_uri": "https://localhost:8080/"
        },
        "id": "-3RzypMRP9WX",
        "outputId": "0b0ea92a-5d8b-4640-fe1d-f45973230e31"
      },
      "outputs": [
        {
          "name": "stdout",
          "output_type": "stream",
          "text": [
            "{'age': '25-34', 'gender': 'male', 'percentage': 0.134363}\n"
          ]
        }
      ],
      "source": [
        "# Find the tuple with the maximum percentage\n",
        "max_tuple = max(data, key=lambda x: x['percentage'])\n",
        "\n",
        "print(max_tuple)\n"
      ]
    },
    {
      "cell_type": "code",
      "execution_count": null,
      "metadata": {
        "colab": {
          "base_uri": "https://localhost:8080/"
        },
        "id": "DQRheFxWRn2x",
        "outputId": "70518f2b-e98a-4ded-dc6d-970f12c2d812"
      },
      "outputs": [
        {
          "data": {
            "text/plain": [
              "str"
            ]
          },
          "execution_count": 40,
          "metadata": {},
          "output_type": "execute_result"
        }
      ],
      "source": [
        "type(df['estimated_audience_size'][0])\n"
      ]
    },
    {
      "cell_type": "code",
      "execution_count": null,
      "metadata": {
        "id": "DYkBPQDtVxG5"
      },
      "outputs": [],
      "source": [
        "###First line of updates\n"
      ]
    },
    {
      "cell_type": "code",
      "execution_count": null,
      "metadata": {
        "id": "7Nb1Nos0S-7b"
      },
      "outputs": [],
      "source": [
        "# hi guys"
      ]
    }
  ],
  "metadata": {
    "colab": {
      "provenance": []
    },
    "kernelspec": {
      "display_name": "Python 3",
      "name": "python3"
    },
    "language_info": {
      "name": "python"
    }
  },
  "nbformat": 4,
  "nbformat_minor": 0
}
